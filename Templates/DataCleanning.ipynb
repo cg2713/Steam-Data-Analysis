{
 "cells": [
  {
   "cell_type": "code",
   "execution_count": 39,
   "metadata": {},
   "outputs": [],
   "source": [
    "import pandas as pd\n",
    "import re\n",
    "import decimal\n",
    "from tqdm import tqdm"
   ]
  },
  {
   "cell_type": "code",
   "execution_count": 40,
   "metadata": {},
   "outputs": [],
   "source": [
    "file = './steam_data_cleaned_phase_3.csv'\n",
    "df = pd.read_csv(file)"
   ]
  },
  {
   "cell_type": "code",
   "execution_count": null,
   "metadata": {},
   "outputs": [],
   "source": []
  },
  {
   "cell_type": "code",
   "execution_count": 41,
   "metadata": {},
   "outputs": [
    {
     "name": "stderr",
     "output_type": "stream",
     "text": [
      "Cleaning Computation: 100%|██████████| 56151/56151 [00:08<00:00, 6776.67Rows/s]\n"
     ]
    }
   ],
   "source": [
    "prices = df.loc[:,\"price_overview\"]\n",
    "keyValue = re.compile(\"(?P<key>'final'): (?P<value>\\d*)\")\n",
    "for inx, i in enumerate(tqdm(prices, desc=\"Cleaning Computation: \", unit=\"Rows\")):\n",
    "    if str(i).find('nan') != 0:\n",
    "        chP = keyValue.findall(i)\n",
    "        df.loc[inx,'price_overview'] = decimal.Decimal(int(chP[0][1])) / 100"
   ]
  },
  {
   "cell_type": "code",
   "execution_count": 42,
   "metadata": {},
   "outputs": [
    {
     "data": {
      "text/plain": [
       "\"88|'https://www.metacritic.com/game/pc/counter-strike?ftag=MCD-06-10aaa1f'\""
      ]
     },
     "execution_count": 42,
     "metadata": {},
     "output_type": "execute_result"
    }
   ],
   "source": [
    "meta = df.loc[:,\"metacritic\"]\n",
    "\n",
    "keyValue = re.compile(\"(?P<key>'score'): (?P<value>\\d*), (?P<url>'url'): (?P<urlV>'(.*?)')\")\n",
    "chP = keyValue.findall(meta[0])\n",
    "chP[0][1]\n",
    "data = chP[0][1] +'|'+ chP[0][3]\n",
    "data"
   ]
  },
  {
   "cell_type": "code",
   "execution_count": 43,
   "metadata": {},
   "outputs": [
    {
     "name": "stderr",
     "output_type": "stream",
     "text": [
      "Cleaning Computation: 100%|██████████| 56151/56151 [00:00<00:00, 71721.14Rows/s]\n"
     ]
    }
   ],
   "source": [
    "meta = df.loc[:,\"metacritic\"]\n",
    "\n",
    "keyValue = re.compile(\"(?P<key>'score'): (?P<value>\\d*), (?P<url>'url'): (?P<urlV>'(.*?)')\")\n",
    "for inx, i in enumerate(tqdm(meta, desc=\"Cleaning Computation: \", unit=\"Rows\")):\n",
    "    if str(i).find('nan') != 0:\n",
    "        chP = keyValue.findall(i)\n",
    "        df.loc[inx,'metacritic'] = chP[0][1]"
   ]
  },
  {
   "attachments": {},
   "cell_type": "markdown",
   "metadata": {},
   "source": [
    "categories = df.loc[:,\"categories\"]\n",
    "\n",
    "keyValue = re.compile(\"(?P<key>'description'): (?P<value>'(.*?)')\")\n",
    "chP = keyValue.findall(categories[1])\n",
    "len(chP[1])\n",
    "chP[1][1]\n",
    "data = ''\n",
    "for jnx, j in enumerate(chP):\n",
    "    if jnx != len(chP) - 1:\n",
    "        data += chP[jnx][1] + '|'\n",
    "    else:\n",
    "        data += chP[jnx][1]\n",
    "data\n"
   ]
  },
  {
   "cell_type": "code",
   "execution_count": 44,
   "metadata": {},
   "outputs": [
    {
     "name": "stderr",
     "output_type": "stream",
     "text": [
      "Cleaning Computation: 100%|██████████| 56151/56151 [00:10<00:00, 5432.37Rows/s]\n"
     ]
    }
   ],
   "source": [
    "categories = df.loc[:,\"categories\"]\n",
    "\n",
    "keyValue = re.compile(\"(?P<key>'description'): (?P<value>'(.*?)')\")\n",
    "for inx, i in enumerate(tqdm(categories, desc=\"Cleaning Computation: \", unit=\"Rows\")):\n",
    "    if str(i).find('nan') != 0:\n",
    "        chP = keyValue.findall(i)\n",
    "        data = ''\n",
    "        for jnx, j in enumerate(chP):\n",
    "            if jnx != len(chP) - 1:\n",
    "                data += chP[jnx][1].strip(\"'\") + '|'\n",
    "            else:\n",
    "                data += chP[jnx][1].strip(\"'\")\n",
    "        df.loc[inx,'categories'] = data"
   ]
  },
  {
   "cell_type": "code",
   "execution_count": 45,
   "metadata": {},
   "outputs": [
    {
     "name": "stderr",
     "output_type": "stream",
     "text": [
      "Cleaning Computation: 100%|██████████| 56151/56151 [00:02<00:00, 23312.60Rows/s]\n"
     ]
    }
   ],
   "source": [
    "recomend = df.loc[:,\"recommendations\"]\n",
    "\n",
    "keyValue = re.compile(\"(?P<key>'total'): (?P<value>\\d*)\")\n",
    "for inx, i in enumerate(tqdm(recomend, desc=\"Cleaning Computation: \", unit=\"Rows\")):\n",
    "    if str(i).find('nan') != 0:\n",
    "        chP = keyValue.findall(i)\n",
    "        df.loc[inx,'recommendations'] = chP[0][1]"
   ]
  },
  {
   "cell_type": "code",
   "execution_count": 46,
   "metadata": {},
   "outputs": [
    {
     "name": "stderr",
     "output_type": "stream",
     "text": [
      "Cleaning Computation: 100%|██████████| 56151/56151 [00:09<00:00, 5649.27Rows/s]\n"
     ]
    }
   ],
   "source": [
    "date = df.loc[:,\"release_date\"]\n",
    "\n",
    "keyValue = re.compile(\"(?P<key>'date'): (?P<value>'(.*?)')\")\n",
    "for inx, i in enumerate(tqdm(date, desc=\"Cleaning Computation: \", unit=\"Rows\")):\n",
    "    if str(i).find('nan') != 0:\n",
    "        chP = keyValue.findall(i)\n",
    "        df.loc[inx,'release_date'] = chP[0][1].strip(\"'\")"
   ]
  },
  {
   "attachments": {},
   "cell_type": "markdown",
   "metadata": {},
   "source": [
    "tags = df.loc[:,\"tags\"]\n",
    "\n",
    "keyValue = re.compile(\"(?P<key>'(.*?)'): (?P<value>\\d*)\")\n",
    "secondValue = re.compile('(?P<key1>\"(.*?)\"): (?P<value1>\\d*)')\n",
    "for inx, i in enumerate(tags):\n",
    "    if str(i).find('nan') != 0:\n",
    "        chP = keyValue.findall(i)\n",
    "        chP2 = secondValue.findall(i)\n",
    "        print(chP)\n",
    "        print(chP2)\n",
    "            "
   ]
  },
  {
   "cell_type": "code",
   "execution_count": 47,
   "metadata": {},
   "outputs": [
    {
     "name": "stderr",
     "output_type": "stream",
     "text": [
      "Cleaning Computation: 100%|██████████| 56151/56151 [00:14<00:00, 3833.49Rows/s]\n"
     ]
    }
   ],
   "source": [
    "tags = df.loc[:,\"tags\"]\n",
    "\n",
    "keyValue = re.compile(\"(?P<key>'(.*?)'): (?P<value>\\d*)\")\n",
    "secondValue = re.compile('(?P<key1>\"(.*?)\"): (?P<value1>\\d*)')\n",
    "for inx, i in enumerate(tqdm(tags, desc=\"Cleaning Computation: \", unit=\"Rows\")):\n",
    "    if str(i).find('nan') != 0:\n",
    "        chP = keyValue.findall(i)\n",
    "        chP2 = secondValue.findall(i)\n",
    "        newdata = ''\n",
    "        if len(chP2) != 0:\n",
    "            for j in chP:\n",
    "                newdata += j[1] + '|'\n",
    "            newdata += chP2[0][1]\n",
    "        else:\n",
    "            for jnx, j in enumerate(chP):\n",
    "                if jnx != len(chP) - 1:\n",
    "                    newdata += chP[jnx][1] + '|'\n",
    "                else:\n",
    "                    newdata += chP[jnx][1]\n",
    "        df.loc[inx,'tags'] = newdata"
   ]
  },
  {
   "cell_type": "code",
   "execution_count": 48,
   "metadata": {},
   "outputs": [
    {
     "data": {
      "text/html": [
       "<div>\n",
       "<style scoped>\n",
       "    .dataframe tbody tr th:only-of-type {\n",
       "        vertical-align: middle;\n",
       "    }\n",
       "\n",
       "    .dataframe tbody tr th {\n",
       "        vertical-align: top;\n",
       "    }\n",
       "\n",
       "    .dataframe thead th {\n",
       "        text-align: right;\n",
       "    }\n",
       "</style>\n",
       "<table border=\"1\" class=\"dataframe\">\n",
       "  <thead>\n",
       "    <tr style=\"text-align: right;\">\n",
       "      <th></th>\n",
       "      <th>steam_appid</th>\n",
       "      <th>name</th>\n",
       "      <th>is_free</th>\n",
       "      <th>developer</th>\n",
       "      <th>publisher</th>\n",
       "      <th>price_overview</th>\n",
       "      <th>metacritic</th>\n",
       "      <th>categories</th>\n",
       "      <th>genre</th>\n",
       "      <th>recommendations</th>\n",
       "      <th>...</th>\n",
       "      <th>positive</th>\n",
       "      <th>negative</th>\n",
       "      <th>owners</th>\n",
       "      <th>average_forever</th>\n",
       "      <th>average_2weeks</th>\n",
       "      <th>median_forever</th>\n",
       "      <th>median_2weeks</th>\n",
       "      <th>price</th>\n",
       "      <th>ccu</th>\n",
       "      <th>tags</th>\n",
       "    </tr>\n",
       "  </thead>\n",
       "  <tbody>\n",
       "    <tr>\n",
       "      <th>0</th>\n",
       "      <td>10</td>\n",
       "      <td>Counter-Strike</td>\n",
       "      <td>False</td>\n",
       "      <td>Valve</td>\n",
       "      <td>Valve</td>\n",
       "      <td>9.99</td>\n",
       "      <td>88</td>\n",
       "      <td>Multi-player|PvP|Online PvP|Shared/Split Scree...</td>\n",
       "      <td>Action</td>\n",
       "      <td>132221</td>\n",
       "      <td>...</td>\n",
       "      <td>210124</td>\n",
       "      <td>5371</td>\n",
       "      <td>10,000,000 .. 20,000,000</td>\n",
       "      <td>10371</td>\n",
       "      <td>311</td>\n",
       "      <td>212</td>\n",
       "      <td>153</td>\n",
       "      <td>999.0</td>\n",
       "      <td>14663</td>\n",
       "      <td>Action|FPS|Multiplayer|Shooter|Classic|Team-Ba...</td>\n",
       "    </tr>\n",
       "    <tr>\n",
       "      <th>1</th>\n",
       "      <td>20</td>\n",
       "      <td>Team Fortress Classic</td>\n",
       "      <td>False</td>\n",
       "      <td>Valve</td>\n",
       "      <td>Valve</td>\n",
       "      <td>4.99</td>\n",
       "      <td>NaN</td>\n",
       "      <td>Multi-player|PvP|Online PvP|Shared/Split Scree...</td>\n",
       "      <td>Action</td>\n",
       "      <td>5143</td>\n",
       "      <td>...</td>\n",
       "      <td>6132</td>\n",
       "      <td>961</td>\n",
       "      <td>5,000,000 .. 10,000,000</td>\n",
       "      <td>2191</td>\n",
       "      <td>0</td>\n",
       "      <td>16</td>\n",
       "      <td>0</td>\n",
       "      <td>499.0</td>\n",
       "      <td>73</td>\n",
       "      <td>Action|FPS|Multiplayer|Classic|Hero Shooter|Sh...</td>\n",
       "    </tr>\n",
       "    <tr>\n",
       "      <th>2</th>\n",
       "      <td>30</td>\n",
       "      <td>Day of Defeat</td>\n",
       "      <td>False</td>\n",
       "      <td>Valve</td>\n",
       "      <td>Valve</td>\n",
       "      <td>4.99</td>\n",
       "      <td>79</td>\n",
       "      <td>Multi-player|Valve Anti-Cheat enabled</td>\n",
       "      <td>Action</td>\n",
       "      <td>3489</td>\n",
       "      <td>...</td>\n",
       "      <td>5460</td>\n",
       "      <td>601</td>\n",
       "      <td>5,000,000 .. 10,000,000</td>\n",
       "      <td>2182</td>\n",
       "      <td>1</td>\n",
       "      <td>8</td>\n",
       "      <td>1</td>\n",
       "      <td>499.0</td>\n",
       "      <td>118</td>\n",
       "      <td>FPS|World War II|Multiplayer|Shooter|Action|Wa...</td>\n",
       "    </tr>\n",
       "    <tr>\n",
       "      <th>3</th>\n",
       "      <td>40</td>\n",
       "      <td>Deathmatch Classic</td>\n",
       "      <td>False</td>\n",
       "      <td>Valve</td>\n",
       "      <td>Valve</td>\n",
       "      <td>4.99</td>\n",
       "      <td>NaN</td>\n",
       "      <td>Multi-player|PvP|Online PvP|Shared/Split Scree...</td>\n",
       "      <td>Action</td>\n",
       "      <td>1754</td>\n",
       "      <td>...</td>\n",
       "      <td>2085</td>\n",
       "      <td>466</td>\n",
       "      <td>5,000,000 .. 10,000,000</td>\n",
       "      <td>2762</td>\n",
       "      <td>0</td>\n",
       "      <td>7</td>\n",
       "      <td>0</td>\n",
       "      <td>499.0</td>\n",
       "      <td>7</td>\n",
       "      <td>Action|FPS|Classic|Multiplayer|Shooter|First-P...</td>\n",
       "    </tr>\n",
       "    <tr>\n",
       "      <th>4</th>\n",
       "      <td>50</td>\n",
       "      <td>Half-Life: Opposing Force</td>\n",
       "      <td>False</td>\n",
       "      <td>Gearbox Software</td>\n",
       "      <td>Valve</td>\n",
       "      <td>4.99</td>\n",
       "      <td>NaN</td>\n",
       "      <td>Single-player|Multi-player|Valve Anti-Cheat en...</td>\n",
       "      <td>Action</td>\n",
       "      <td>14047</td>\n",
       "      <td>...</td>\n",
       "      <td>16022</td>\n",
       "      <td>817</td>\n",
       "      <td>5,000,000 .. 10,000,000</td>\n",
       "      <td>2047</td>\n",
       "      <td>0</td>\n",
       "      <td>198</td>\n",
       "      <td>0</td>\n",
       "      <td>499.0</td>\n",
       "      <td>126</td>\n",
       "      <td>FPS|Action|Classic|Sci-fi|Singleplayer|Shooter...</td>\n",
       "    </tr>\n",
       "  </tbody>\n",
       "</table>\n",
       "<p>5 rows × 21 columns</p>\n",
       "</div>"
      ],
      "text/plain": [
       "   steam_appid                       name is_free         developer publisher  \\\n",
       "0           10             Counter-Strike   False             Valve     Valve   \n",
       "1           20      Team Fortress Classic   False             Valve     Valve   \n",
       "2           30              Day of Defeat   False             Valve     Valve   \n",
       "3           40         Deathmatch Classic   False             Valve     Valve   \n",
       "4           50  Half-Life: Opposing Force   False  Gearbox Software     Valve   \n",
       "\n",
       "  price_overview metacritic  \\\n",
       "0           9.99         88   \n",
       "1           4.99        NaN   \n",
       "2           4.99         79   \n",
       "3           4.99        NaN   \n",
       "4           4.99        NaN   \n",
       "\n",
       "                                          categories   genre recommendations  \\\n",
       "0  Multi-player|PvP|Online PvP|Shared/Split Scree...  Action          132221   \n",
       "1  Multi-player|PvP|Online PvP|Shared/Split Scree...  Action            5143   \n",
       "2              Multi-player|Valve Anti-Cheat enabled  Action            3489   \n",
       "3  Multi-player|PvP|Online PvP|Shared/Split Scree...  Action            1754   \n",
       "4  Single-player|Multi-player|Valve Anti-Cheat en...  Action           14047   \n",
       "\n",
       "   ... positive  negative                    owners average_forever  \\\n",
       "0  ...   210124      5371  10,000,000 .. 20,000,000           10371   \n",
       "1  ...     6132       961   5,000,000 .. 10,000,000            2191   \n",
       "2  ...     5460       601   5,000,000 .. 10,000,000            2182   \n",
       "3  ...     2085       466   5,000,000 .. 10,000,000            2762   \n",
       "4  ...    16022       817   5,000,000 .. 10,000,000            2047   \n",
       "\n",
       "   average_2weeks  median_forever  median_2weeks  price    ccu  \\\n",
       "0             311             212            153  999.0  14663   \n",
       "1               0              16              0  499.0     73   \n",
       "2               1               8              1  499.0    118   \n",
       "3               0               7              0  499.0      7   \n",
       "4               0             198              0  499.0    126   \n",
       "\n",
       "                                                tags  \n",
       "0  Action|FPS|Multiplayer|Shooter|Classic|Team-Ba...  \n",
       "1  Action|FPS|Multiplayer|Classic|Hero Shooter|Sh...  \n",
       "2  FPS|World War II|Multiplayer|Shooter|Action|Wa...  \n",
       "3  Action|FPS|Classic|Multiplayer|Shooter|First-P...  \n",
       "4  FPS|Action|Classic|Sci-fi|Singleplayer|Shooter...  \n",
       "\n",
       "[5 rows x 21 columns]"
      ]
     },
     "execution_count": 48,
     "metadata": {},
     "output_type": "execute_result"
    }
   ],
   "source": [
    "df.head()"
   ]
  },
  {
   "attachments": {},
   "cell_type": "markdown",
   "metadata": {},
   "source": []
  },
  {
   "cell_type": "code",
   "execution_count": 49,
   "metadata": {},
   "outputs": [],
   "source": [
    "df.to_csv(\"./tempCleanSteamData.csv\")"
   ]
  }
 ],
 "metadata": {
  "kernelspec": {
   "display_name": "base",
   "language": "python",
   "name": "python3"
  },
  "language_info": {
   "codemirror_mode": {
    "name": "ipython",
    "version": 3
   },
   "file_extension": ".py",
   "mimetype": "text/x-python",
   "name": "python",
   "nbconvert_exporter": "python",
   "pygments_lexer": "ipython3",
   "version": "3.10.9"
  },
  "orig_nbformat": 4
 },
 "nbformat": 4,
 "nbformat_minor": 2
}
